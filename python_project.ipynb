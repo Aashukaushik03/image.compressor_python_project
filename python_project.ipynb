{
 "cells": [
  {
   "cell_type": "code",
   "execution_count": null,
   "id": "ad288b83-fda7-489f-a7bd-d0be05cdc4ff",
   "metadata": {},
   "outputs": [],
   "source": [
    "import tkinter as tk\n",
    "from tkinter import filedialog, messagebox\n",
    "from PIL import Image\n",
    "\n",
    "class ImageConverter:\n",
    "    def __init__(self, root):\n",
    "        self.root = root\n",
    "        self.root.title(\"Image Converter\")\n",
    "        self.root.geometry(\"400x200\")\n",
    "\n",
    "        self.label = tk.Label(root, text=\"Select an Image to Convert:\")\n",
    "        self.label.pack(pady=10)\n",
    "\n",
    "        self.select_button = tk.Button(root, text=\"Browse\", command=self.browse_image)\n",
    "        self.select_button.pack(pady=10)\n",
    "\n",
    "        self.format_label = tk.Label(root, text=\"Choose format:\")\n",
    "        self.format_label.pack(pady=10)\n",
    "\n",
    "        self.format_var = tk.StringVar(value=\"JPEG\")\n",
    "        self.format_options = [\"JPEG\", \"PNG\", \"BMP\"]\n",
    "        self.format_menu = tk.OptionMenu(root, self.format_var, *self.format_options)\n",
    "        self.format_menu.pack(pady=10)\n",
    "\n",
    "        self.convert_button = tk.Button(root, text=\"Convert\", command=self.convert_image)\n",
    "        self.convert_button.pack(pady=20)\n",
    "\n",
    "    def browse_image(self):\n",
    "        self.file_path = filedialog.askopenfilename(filetypes=[(\"Image Files\", \"*.jpg;*.jpeg;*.png;*.bmp\")])\n",
    "        if not self.file_path:\n",
    "            messagebox.showerror(\"Error\", \"No file selected!\")\n",
    "\n",
    "    def convert_image(self):\n",
    "        try:\n",
    "            image = Image.open(self.file_path)\n",
    "            output_format = self.format_var.get().lower()\n",
    "            output_file = filedialog.asksaveasfilename(defaultextension=f\".{output_format}\",\n",
    "                                                         filetypes=[(f\"{output_format.upper()} files\", f\"*.{output_format}\")])\n",
    "            if output_file:\n",
    "                image.save(output_file, format=output_format.upper())\n",
    "                messagebox.showinfo(\"Success\", \"Image converted successfully!\")\n",
    "        except Exception as e:\n",
    "            messagebox.showerror(\"Error\", str(e))\n",
    "\n",
    "if __name__ == \"__main__\":\n",
    "    root = tk.Tk()\n",
    "    app = ImageConverter(root)\n",
    "    root.mainloop()\n"
   ]
  },
  {
   "cell_type": "code",
   "execution_count": null,
   "id": "098edbe6-db79-4adb-b6f7-93bca2e9381c",
   "metadata": {},
   "outputs": [],
   "source": []
  }
 ],
 "metadata": {
  "kernelspec": {
   "display_name": "Python 3 (ipykernel)",
   "language": "python",
   "name": "python3"
  },
  "language_info": {
   "codemirror_mode": {
    "name": "ipython",
    "version": 3
   },
   "file_extension": ".py",
   "mimetype": "text/x-python",
   "name": "python",
   "nbconvert_exporter": "python",
   "pygments_lexer": "ipython3",
   "version": "3.12.4"
  }
 },
 "nbformat": 4,
 "nbformat_minor": 5
}
